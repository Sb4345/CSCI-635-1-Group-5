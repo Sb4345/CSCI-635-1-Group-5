{
 "cells": [
  {
   "cell_type": "markdown",
   "id": "2045ceb2",
   "metadata": {},
   "source": [
    "# Import data and libraries"
   ]
  },
  {
   "cell_type": "code",
   "execution_count": null,
   "id": "64cf97ff",
   "metadata": {},
   "outputs": [],
   "source": [
    "import pandas as pd\n",
    "import numpy as np\n",
    "import sklearn as sk\n",
    "\n",
    "\n",
    "tree_data = pd.read_csv('../data/covtype.data', header=None)\n",
    "tree_cols = ['Elevation', 'Aspect', 'Slope', 'Horizontal_To_Hydrology',\n",
    "             'Vertical_To_Hydrology', 'Horizontal_To_Roadways',\n",
    "             'Hillshade_9am', 'Hillshade_Noon', 'Hillshade_3pm',\n",
    "             'Horizontal_To_Fire'] + \\\n",
    "            [f'Wilderness_Area_{i}' for i in range(4)] + \\\n",
    "            [f'Soil_Type_{i}' for i in range(40)] + \\\n",
    "            ['Cover_Type']\n",
    "\n",
    "# print(tree_data.describe())\n",
    "tree_data.columns = tree_cols\n",
    "print(tree_data.head())"
   ]
  },
  {
   "cell_type": "code",
   "execution_count": null,
   "id": "6f8258cb",
   "metadata": {},
   "outputs": [],
   "source": []
  }
 ],
 "metadata": {
  "kernelspec": {
   "display_name": "treevenv (3.10.12)",
   "language": "python",
   "name": "python3"
  },
  "language_info": {
   "codemirror_mode": {
    "name": "ipython",
    "version": 3
   },
   "file_extension": ".py",
   "mimetype": "text/x-python",
   "name": "python",
   "nbconvert_exporter": "python",
   "pygments_lexer": "ipython3",
   "version": "3.10.12"
  }
 },
 "nbformat": 4,
 "nbformat_minor": 5
}
