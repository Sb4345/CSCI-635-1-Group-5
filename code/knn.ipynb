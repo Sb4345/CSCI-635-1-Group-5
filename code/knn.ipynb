{
 "cells": [
  {
   "cell_type": "markdown",
   "id": "2045ceb2",
   "metadata": {},
   "source": [
    "# Import data and libraries"
   ]
  },
  {
   "cell_type": "code",
   "execution_count": 8,
   "id": "64cf97ff",
   "metadata": {},
   "outputs": [],
   "source": [
    "import pandas as pd\n",
    "import numpy as np\n",
    "from sklearn.model_selection import train_test_split\n",
    "import sklearn.preprocessing as preproc\n",
    "from sklearn.neighbors import KNeighborsClassifier\n",
    "from sklearn.metrics import classification_report, confusion_matrix, matthews_corrcoef, accuracy_score\n",
    "from sklearn.model_selection import GridSearchCV\n",
    "\n",
    "\n",
    "from imblearn.over_sampling import SMOTE\n",
    "\n",
    "import scripts\n",
    "\n",
    "# constants and settings\n",
    "rand_seed = 35"
   ]
  },
  {
   "cell_type": "code",
   "execution_count": 2,
   "id": "ac154b9b",
   "metadata": {},
   "outputs": [],
   "source": [
    "# Load the data\n",
    "tree_data = pd.read_csv('../data/covtype.data', header=None)\n",
    "tree_cols = ['Elevation', 'Aspect', 'Slope', 'Horizontal_To_Hydrology',\n",
    "             'Vertical_To_Hydrology', 'Horizontal_To_Roadways',\n",
    "             'Hillshade_9am', 'Hillshade_Noon', 'Hillshade_3pm',\n",
    "             'Horizontal_To_Fire'] + \\\n",
    "            [f'Wilderness_Area_{i}' for i in range(4)] + \\\n",
    "            [f'Soil_Type_{i}' for i in range(40)] + \\\n",
    "            ['Cover_Type']\n",
    "\n",
    "# print(tree_data.describe())"
   ]
  },
  {
   "cell_type": "code",
   "execution_count": 3,
   "id": "5c52edf5",
   "metadata": {},
   "outputs": [
    {
     "name": "stdout",
     "output_type": "stream",
     "text": [
      "Nan values in dataset: 0\n",
      "Dataset shape: (581012, 55)\n"
     ]
    }
   ],
   "source": [
    "tree_data.columns = tree_cols\n",
    "print(\"Nan values in dataset:\", tree_data.isna().sum().sum())\n",
    "print(f\"Dataset shape: {tree_data.shape}\")"
   ]
  },
  {
   "cell_type": "markdown",
   "id": "d799d6fc",
   "metadata": {},
   "source": [
    "# Data exploration"
   ]
  },
  {
   "cell_type": "code",
   "execution_count": 4,
   "id": "b510ad07",
   "metadata": {},
   "outputs": [],
   "source": [
    "def plot_histogram(y, label=None):\n",
    "    import matplotlib.pyplot as plt\n",
    "    bin_centers = sorted(y.unique())\n",
    "    edges = [x - 0.5 for x in bin_centers] + [bin_centers[-1] + 0.5]\n",
    "    y.hist(bins=edges, align='mid', density=True, rwidth=0.8)\n",
    "    plt.xlabel(label if label else 'Value')\n",
    "    plt.ylabel('Density')\n",
    "    plt.title('Histogram of ' + (label if label else 'Histogram'))\n",
    "    plt.show()"
   ]
  },
  {
   "cell_type": "code",
   "execution_count": 5,
   "id": "3375ca1a",
   "metadata": {},
   "outputs": [],
   "source": [
    "X_tree, y_tree = scripts.sample_stratify(tree_data, 'Cover_Type', n_samples=2000, rand_state=rand_seed)"
   ]
  },
  {
   "cell_type": "code",
   "execution_count": 9,
   "id": "53a94005",
   "metadata": {},
   "outputs": [
    {
     "ename": "AttributeError",
     "evalue": "'numpy.ndarray' object has no attribute 'unique'",
     "output_type": "error",
     "traceback": [
      "\u001b[0;31m---------------------------------------------------------------------------\u001b[0m",
      "\u001b[0;31mAttributeError\u001b[0m                            Traceback (most recent call last)",
      "Cell \u001b[0;32mIn[9], line 1\u001b[0m\n\u001b[0;32m----> 1\u001b[0m \u001b[43mscripts\u001b[49m\u001b[38;5;241;43m.\u001b[39;49m\u001b[43mplot_histogram\u001b[49m\u001b[43m(\u001b[49m\u001b[43my_tree\u001b[49m\u001b[43m,\u001b[49m\u001b[43m \u001b[49m\u001b[43mlabel\u001b[49m\u001b[38;5;241;43m=\u001b[39;49m\u001b[38;5;124;43m'\u001b[39;49m\u001b[38;5;124;43mCover Type\u001b[39;49m\u001b[38;5;124;43m'\u001b[39;49m\u001b[43m)\u001b[49m\n",
      "File \u001b[0;32m~/Classes/CSCI635/CSCI-635-1-Group-5/code/scripts/histogram.py:5\u001b[0m, in \u001b[0;36mplot_histogram\u001b[0;34m(y, label)\u001b[0m\n\u001b[1;32m      4\u001b[0m \u001b[38;5;28;01mdef\u001b[39;00m\u001b[38;5;250m \u001b[39m\u001b[38;5;21mplot_histogram\u001b[39m(y, label\u001b[38;5;241m=\u001b[39m\u001b[38;5;28;01mNone\u001b[39;00m):\n\u001b[0;32m----> 5\u001b[0m     bin_centers \u001b[38;5;241m=\u001b[39m \u001b[38;5;28msorted\u001b[39m(\u001b[43mnp\u001b[49m\u001b[38;5;241;43m.\u001b[39;49m\u001b[43marray\u001b[49m\u001b[43m(\u001b[49m\u001b[43my\u001b[49m\u001b[38;5;241;43m.\u001b[39;49m\u001b[43mvalues\u001b[49m\u001b[43m)\u001b[49m\u001b[38;5;241;43m.\u001b[39;49m\u001b[43munique\u001b[49m())\n\u001b[1;32m      6\u001b[0m     edges \u001b[38;5;241m=\u001b[39m [x \u001b[38;5;241m-\u001b[39m \u001b[38;5;241m0.5\u001b[39m \u001b[38;5;28;01mfor\u001b[39;00m x \u001b[38;5;129;01min\u001b[39;00m bin_centers] \u001b[38;5;241m+\u001b[39m [bin_centers[\u001b[38;5;241m-\u001b[39m\u001b[38;5;241m1\u001b[39m] \u001b[38;5;241m+\u001b[39m \u001b[38;5;241m0.5\u001b[39m]\n\u001b[1;32m      7\u001b[0m     y\u001b[38;5;241m.\u001b[39mhist(bins\u001b[38;5;241m=\u001b[39medges, align\u001b[38;5;241m=\u001b[39m\u001b[38;5;124m'\u001b[39m\u001b[38;5;124mmid\u001b[39m\u001b[38;5;124m'\u001b[39m, density\u001b[38;5;241m=\u001b[39m\u001b[38;5;28;01mTrue\u001b[39;00m, rwidth\u001b[38;5;241m=\u001b[39m\u001b[38;5;241m0.8\u001b[39m)\n",
      "\u001b[0;31mAttributeError\u001b[0m: 'numpy.ndarray' object has no attribute 'unique'"
     ]
    }
   ],
   "source": [
    "scripts.plot_histogram(y_tree, label='Cover Type')"
   ]
  },
  {
   "cell_type": "markdown",
   "id": "613b57ef",
   "metadata": {},
   "source": [
    "Very uneven label distribution, mostly centered on types 1 and 2.\n",
    "Stratified sampling require to ensure labels 3-7 are properly represented in training."
   ]
  },
  {
   "cell_type": "code",
   "execution_count": 16,
   "id": "c4c51605",
   "metadata": {},
   "outputs": [],
   "source": [
    "# std_scaler, x_st_scale = scripts.normalize_data(X_tree, method='standard')\n",
    "scaler = preproc.StandardScaler()\n",
    "x_st_scale = scaler.fit_transform(X_tree)"
   ]
  },
  {
   "cell_type": "markdown",
   "id": "b505372a",
   "metadata": {},
   "source": [
    "## Split training/testing data"
   ]
  },
  {
   "cell_type": "code",
   "execution_count": 17,
   "id": "6f8258cb",
   "metadata": {},
   "outputs": [],
   "source": [
    "x_train, x_test, y_train, y_test = train_test_split(x_st_scale, y_tree, test_size=0.2, stratify=y_tree, random_state=rand_seed)\n"
   ]
  },
  {
   "cell_type": "code",
   "execution_count": 18,
   "id": "9306e13e",
   "metadata": {},
   "outputs": [
    {
     "data": {
      "image/png": "[encoded data removed]",
      "text/plain": [
       "<Figure size 640x480 with 1 Axes>"
      ]
     },
     "metadata": {},
     "output_type": "display_data"
    }
   ],
   "source": [
    "# Oversample\n",
    "x_oversample, y_oversample = SMOTE(random_state=rand_seed, sampling_strategy=\"auto\", k_neighbors=2).fit_resample(x_train, y_train)\n",
    "x_train, x_val, y_train, y_val = train_test_split(x_oversample, y_oversample, test_size=0.2, stratify=y_oversample, random_state=rand_seed)\n",
    "\n",
    "plot_histogram(y_oversample, label='Cover Type after Oversampling')"
   ]
  },
  {
   "cell_type": "code",
   "execution_count": 10,
   "id": "52194dd6",
   "metadata": {},
   "outputs": [
    {
     "name": "stdout",
     "output_type": "stream",
     "text": [
      "Best K: {'n_neighbors': 1}\n",
      "Best cross-validation score: 0.8894676417615536\n"
     ]
    }
   ],
   "source": [
    "knn_cv = GridSearchCV(KNeighborsClassifier(), {'n_neighbors': [1, 3, 5, 7, 9]}, cv=5, n_jobs=-1, scoring='accuracy')\n",
    "knn_cv.fit(x_train, y_train)\n",
    "print(\"Best K:\", knn_cv.best_params_)\n",
    "print(\"Best cross-validation score:\", knn_cv.best_score_)"
   ]
  },
  {
   "cell_type": "code",
   "execution_count": 11,
   "id": "30c3a04e",
   "metadata": {},
   "outputs": [
    {
     "name": "stdout",
     "output_type": "stream",
     "text": [
      "All cross-validation results:\n",
      "k=1, mean accuracy=0.8895, σ=0.0027\n",
      "k=3, mean accuracy=0.8790, σ=0.0042\n",
      "k=5, mean accuracy=0.8731, σ=0.0041\n",
      "k=7, mean accuracy=0.8681, σ=0.0032\n",
      "k=9, mean accuracy=0.8632, σ=0.0046\n"
     ]
    }
   ],
   "source": [
    "knn_results = pd.DataFrame(knn_cv.cv_results_)\n",
    "print(\"All cross-validation results:\")\n",
    "for row in knn_results.itertuples():\n",
    "    print(f\"k={row.params['n_neighbors']}, mean accuracy={row.mean_test_score:.4f}, \\u03C3={row.std_test_score:.4f}\")"
   ]
  }
 ],
 "metadata": {
  "kernelspec": {
   "display_name": "venv (3.10.12)",
   "language": "python",
   "name": "python3"
  },
  "language_info": {
   "codemirror_mode": {
    "name": "ipython",
    "version": 3
   },
   "file_extension": ".py",
   "mimetype": "text/x-python",
   "name": "python",
   "nbconvert_exporter": "python",
   "pygments_lexer": "ipython3",
   "version": "3.10.12"
  }
 },
 "nbformat": 4,
 "nbformat_minor": 5
}
