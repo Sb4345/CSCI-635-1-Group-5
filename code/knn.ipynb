{
 "cells": [
  {
   "cell_type": "markdown",
   "id": "2045ceb2",
   "metadata": {},
   "source": [
    "# Import data and libraries"
   ]
  },
  {
   "cell_type": "code",
   "execution_count": null,
   "id": "64cf97ff",
   "metadata": {},
   "outputs": [],
   "source": [
    "import pandas as pd\n",
    "import numpy as np\n",
    "from sklearn.model_selection import train_test_split\n",
    "import sklearn.preprocessing as preproc\n",
    "from sklearn.neighbors import KNeighborsClassifier\n",
    "from sklearn.metrics import classification_report, confusion_matrix, matthews_corrcoef\n",
    "from sklearn.model_selection import GridSearchCV\n",
    "\n",
    "# constants and settings\n",
    "rand_seed = 35"
   ]
  },
  {
   "cell_type": "code",
   "execution_count": null,
   "id": "ac154b9b",
   "metadata": {},
   "outputs": [],
   "source": [
    "# Load the data\n",
    "tree_data = pd.read_csv('../data/covtype.data', header=None)\n",
    "tree_cols = ['Elevation', 'Aspect', 'Slope', 'Horizontal_To_Hydrology',\n",
    "             'Vertical_To_Hydrology', 'Horizontal_To_Roadways',\n",
    "             'Hillshade_9am', 'Hillshade_Noon', 'Hillshade_3pm',\n",
    "             'Horizontal_To_Fire'] + \\\n",
    "            [f'Wilderness_Area_{i}' for i in range(4)] + \\\n",
    "            [f'Soil_Type_{i}' for i in range(40)] + \\\n",
    "            ['Cover_Type']\n",
    "\n",
    "# print(tree_data.describe())\n",
    "tree_data.columns = tree_cols\n",
    "print(\"Nan values in dataset:\", tree_data.isna().sum().sum())"
   ]
  },
  {
   "cell_type": "markdown",
   "id": "d799d6fc",
   "metadata": {},
   "source": [
    "# Data exploration"
   ]
  },
  {
   "cell_type": "code",
   "execution_count": null,
   "id": "b510ad07",
   "metadata": {},
   "outputs": [],
   "source": [
    "def plot_histogram(y, label=None):\n",
    "    import matplotlib.pyplot as plt\n",
    "    bin_centers = sorted(y.unique())\n",
    "    edges = [x - 0.5 for x in bin_centers] + [bin_centers[-1] + 0.5]\n",
    "    y.hist(bins=edges, align='mid', density=True, rwidth=0.8)\n",
    "    plt.xlabel(label if label else 'Value')\n",
    "    plt.ylabel('Density')\n",
    "    plt.title('Histogram of ' + (label if label else 'Histogram'))\n",
    "    plt.show()"
   ]
  },
  {
   "cell_type": "code",
   "execution_count": null,
   "id": "53a94005",
   "metadata": {},
   "outputs": [],
   "source": [
    "columns = tree_data.columns.tolist()\n",
    "columns.remove('Cover_Type')\n",
    "X_tree = tree_data[columns]\n",
    "y_tree = tree_data['Cover_Type']\n",
    "\n",
    "\n",
    "plot_histogram(y_tree, label='Cover Type')"
   ]
  },
  {
   "cell_type": "markdown",
   "id": "613b57ef",
   "metadata": {},
   "source": [
    "Very uneven label distribution, mostly centered on types 1 and 2.\n",
    "Stratified sampling require to ensure labels 3-7 are properly represented in training."
   ]
  },
  {
   "cell_type": "code",
   "execution_count": null,
   "id": "c4c51605",
   "metadata": {},
   "outputs": [],
   "source": [
    "scaler = preproc.StandardScaler()\n",
    "X_scaled = scaler.fit_transform(X_tree)"
   ]
  },
  {
   "cell_type": "markdown",
   "id": "b505372a",
   "metadata": {},
   "source": [
    "## Split training/testing data"
   ]
  },
  {
   "cell_type": "code",
   "execution_count": null,
   "id": "6f8258cb",
   "metadata": {},
   "outputs": [],
   "source": [
    "x_train, x_test, y_train, y_test = train_test_split(X_scaled, y_tree, test_size=0.2, stratify=y_tree, random_state=rand_seed)  # fix stratify\n",
    "\n",
    "plot_histogram(y_train, label='Train Cover Type')"
   ]
  },
  {
   "cell_type": "code",
   "execution_count": null,
   "id": "52194dd6",
   "metadata": {},
   "outputs": [],
   "source": [
    "knn_cv = GridSearchCV(KNeighborsClassifier(), {'n_neighbors': [1, 3, 5, 7, 9]}, cv=5, n_jobs=-1, scoring='accuracy')\n",
    "knn_cv.fit(x_train, y_train)\n",
    "print(\"Best K:\", knn_cv.best_params_)\n",
    "print(\"Best cross-validation score:\", knn_cv.best_score_)"
   ]
  }
 ],
 "metadata": {
  "kernelspec": {
   "display_name": "treevenv (3.10.12)",
   "language": "python",
   "name": "python3"
  },
  "language_info": {
   "codemirror_mode": {
    "name": "ipython",
    "version": 3
   },
   "file_extension": ".py",
   "mimetype": "text/x-python",
   "name": "python",
   "nbconvert_exporter": "python",
   "pygments_lexer": "ipython3",
   "version": "3.10.12"
  }
 },
 "nbformat": 4,
 "nbformat_minor": 5
}
