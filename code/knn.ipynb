{
 "cells": [
  {
   "cell_type": "markdown",
   "id": "2045ceb2",
   "metadata": {},
   "source": [
    "# Import data and libraries"
   ]
  },
  {
   "cell_type": "code",
   "execution_count": null,
   "id": "64cf97ff",
   "metadata": {},
   "outputs": [
    {
     "name": "stdout",
     "output_type": "stream",
     "text": [
      "Nan values in dataset: 0\n",
      "   Elevation  Aspect  Slope  Horizontal_To_Hydrology  Vertical_To_Hydrology  \\\n",
      "0       2596      51      3                      258                      0   \n",
      "1       2590      56      2                      212                     -6   \n",
      "2       2804     139      9                      268                     65   \n",
      "3       2785     155     18                      242                    118   \n",
      "4       2595      45      2                      153                     -1   \n",
      "\n",
      "   Horizontal_To_Roadways  Hillshade_9am  Hillshade_Noon  Hillshade_3pm  \\\n",
      "0                     510            221             232            148   \n",
      "1                     390            220             235            151   \n",
      "2                    3180            234             238            135   \n",
      "3                    3090            238             238            122   \n",
      "4                     391            220             234            150   \n",
      "\n",
      "   Horizontal_To_Fire  ...  Soil_Type_31  Soil_Type_32  Soil_Type_33  \\\n",
      "0                6279  ...             0             0             0   \n",
      "1                6225  ...             0             0             0   \n",
      "2                6121  ...             0             0             0   \n",
      "3                6211  ...             0             0             0   \n",
      "4                6172  ...             0             0             0   \n",
      "\n",
      "   Soil_Type_34  Soil_Type_35  Soil_Type_36  Soil_Type_37  Soil_Type_38  \\\n",
      "0             0             0             0             0             0   \n",
      "1             0             0             0             0             0   \n",
      "2             0             0             0             0             0   \n",
      "3             0             0             0             0             0   \n",
      "4             0             0             0             0             0   \n",
      "\n",
      "   Soil_Type_39  Cover_Type  \n",
      "0             0           5  \n",
      "1             0           5  \n",
      "2             0           2  \n",
      "3             0           2  \n",
      "4             0           5  \n",
      "\n",
      "[5 rows x 55 columns]\n"
     ]
    }
   ],
   "source": [
    "import pandas as pd\n",
    "import numpy as np\n",
    "from sklearn.model_selection import train_test_split\n",
    "import sklearn.preprocessing as preproc\n",
    "from sklearn.neighbors import KNeighborsClassifier\n",
    "from sklearn.metrics import classification_report, confusion_matrix\n",
    "\n",
    "# Load the data\n",
    "tree_data = pd.read_csv('../data/covtype.data', header=None)\n",
    "tree_cols = ['Elevation', 'Aspect', 'Slope', 'Horizontal_To_Hydrology',\n",
    "             'Vertical_To_Hydrology', 'Horizontal_To_Roadways',\n",
    "             'Hillshade_9am', 'Hillshade_Noon', 'Hillshade_3pm',\n",
    "             'Horizontal_To_Fire'] + \\\n",
    "            [f'Wilderness_Area_{i}' for i in range(4)] + \\\n",
    "            [f'Soil_Type_{i}' for i in range(40)] + \\\n",
    "            ['Cover_Type']\n",
    "\n",
    "# print(tree_data.describe())\n",
    "tree_data.columns = tree_cols\n",
    "print(\"Nan values in dataset:\", tree_data.isna().sum().sum())"
   ]
  },
  {
   "cell_type": "markdown",
   "id": "d799d6fc",
   "metadata": {},
   "source": [
    "# Data exploration"
   ]
  },
  {
   "cell_type": "code",
   "execution_count": 11,
   "id": "53a94005",
   "metadata": {},
   "outputs": [
    {
     "data": {
      "text/plain": [
       "<Axes: >"
      ]
     },
     "execution_count": 11,
     "metadata": {},
     "output_type": "execute_result"
    },
    {
     "data": {
      "image/png": "[encoded data removed]",
      "text/plain": [
       "<Figure size 640x480 with 1 Axes>"
      ]
     },
     "metadata": {},
     "output_type": "display_data"
    }
   ],
   "source": [
    "columns = tree_data.columns.tolist()\n",
    "columns.remove('Cover_Type')\n",
    "X = tree_data[columns]\n",
    "y = tree_data['Cover_Type']\n",
    "\n",
    "bin_centers = sorted(y.unique())\n",
    "edges = [x - 0.5 for x in bin_centers] + [bin_centers[-1] + 0.5]\n",
    "y.hist(bins=edges, align='mid')"
   ]
  },
  {
   "cell_type": "markdown",
   "id": "613b57ef",
   "metadata": {},
   "source": [
    "Very uneven label distribution, mostly centered on types 1 and 2"
   ]
  },
  {
   "cell_type": "markdown",
   "id": "b505372a",
   "metadata": {},
   "source": [
    "## Split training/testing data"
   ]
  },
  {
   "cell_type": "code",
   "execution_count": null,
   "id": "6f8258cb",
   "metadata": {},
   "outputs": [],
   "source": [
    "x_tree = tree_data.drop('Cover_Type', axis=1)\n",
    "y_tree = tree_data['Cover_Type']\n",
    "\n",
    "x_train, x_test, y_train, y_test = train_test_split(x_tree, y_tree, test_size=0.2)"
   ]
  },
  {
   "cell_type": "code",
   "execution_count": null,
   "id": "52194dd6",
   "metadata": {},
   "outputs": [],
   "source": []
  }
 ],
 "metadata": {
  "kernelspec": {
   "display_name": "treevenv (3.10.12)",
   "language": "python",
   "name": "python3"
  },
  "language_info": {
   "codemirror_mode": {
    "name": "ipython",
    "version": 3
   },
   "file_extension": ".py",
   "mimetype": "text/x-python",
   "name": "python",
   "nbconvert_exporter": "python",
   "pygments_lexer": "ipython3",
   "version": "3.10.12"
  }
 },
 "nbformat": 4,
 "nbformat_minor": 5
}
