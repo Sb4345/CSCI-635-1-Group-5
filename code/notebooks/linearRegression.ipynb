{
 "cells": [
  {
   "cell_type": "markdown",
   "id": "2045ceb2",
   "metadata": {},
   "source": [
    "# Import data and libraries"
   ]
  },
  {
   "cell_type": "code",
   "execution_count": 64,
   "id": "64cf97ff",
   "metadata": {},
   "outputs": [
    {
     "name": "stdout",
     "output_type": "stream",
     "text": [
      "Nan values in dataset: 0\n",
      "   Elevation  Aspect  Slope  Horizontal_To_Hydrology  Vertical_To_Hydrology  \\\n",
      "0       2596      51      3                      258                      0   \n",
      "1       2590      56      2                      212                     -6   \n",
      "2       2804     139      9                      268                     65   \n",
      "3       2785     155     18                      242                    118   \n",
      "4       2595      45      2                      153                     -1   \n",
      "\n",
      "   Horizontal_To_Roadways  Hillshade_9am  Hillshade_Noon  Hillshade_3pm  \\\n",
      "0                     510            221             232            148   \n",
      "1                     390            220             235            151   \n",
      "2                    3180            234             238            135   \n",
      "3                    3090            238             238            122   \n",
      "4                     391            220             234            150   \n",
      "\n",
      "   Horizontal_To_Fire  ...  Soil_Type_31  Soil_Type_32  Soil_Type_33  \\\n",
      "0                6279  ...             0             0             0   \n",
      "1                6225  ...             0             0             0   \n",
      "2                6121  ...             0             0             0   \n",
      "3                6211  ...             0             0             0   \n",
      "4                6172  ...             0             0             0   \n",
      "\n",
      "   Soil_Type_34  Soil_Type_35  Soil_Type_36  Soil_Type_37  Soil_Type_38  \\\n",
      "0             0             0             0             0             0   \n",
      "1             0             0             0             0             0   \n",
      "2             0             0             0             0             0   \n",
      "3             0             0             0             0             0   \n",
      "4             0             0             0             0             0   \n",
      "\n",
      "   Soil_Type_39  Cover_Type  \n",
      "0             0           5  \n",
      "1             0           5  \n",
      "2             0           2  \n",
      "3             0           2  \n",
      "4             0           5  \n",
      "\n",
      "[5 rows x 55 columns]\n"
     ]
    }
   ],
   "source": [
    "import pandas as pd\n",
    "import numpy as np\n",
    "from sklearn.model_selection import train_test_split\n",
    "from sklearn.preprocessing import StandardScaler\n",
    "from sklearn.preprocessing import MinMaxScaler\n",
    "\n",
    "tree_data = pd.read_csv('../../data/covtype.data', header=None)\n",
    "tree_cols = ['Elevation', 'Aspect', 'Slope', 'Horizontal_To_Hydrology',\n",
    "             'Vertical_To_Hydrology', 'Horizontal_To_Roadways',\n",
    "             'Hillshade_9am', 'Hillshade_Noon', 'Hillshade_3pm',\n",
    "             'Horizontal_To_Fire'] + \\\n",
    "            [f'Wilderness_Area_{i}' for i in range(4)] + \\\n",
    "            [f'Soil_Type_{i}' for i in range(40)] + \\\n",
    "            ['Cover_Type']\n",
    "\n",
    "# print(tree_data.describe())\n",
    "tree_data.columns = tree_cols\n",
    "print(\"Nan values in dataset:\", tree_data.isna().sum().sum())\n",
    "print(tree_data.head())"
   ]
  },
  {
   "cell_type": "markdown",
   "id": "b505372a",
   "metadata": {},
   "source": [
    "## Split training/testing data"
   ]
  },
  {
   "cell_type": "code",
   "execution_count": 65,
   "id": "6f8258cb",
   "metadata": {},
   "outputs": [],
   "source": [
    "x_tree = tree_data.drop('Cover_Type', axis=1)\n",
    "y_tree = tree_data['Cover_Type']\n",
    "\n",
    "x_train, x_test, y_train, y_test = train_test_split(x_tree, y_tree, test_size=0.2)\n",
    "\n",
    "\n",
    "data = tree_data.to_numpy()"
   ]
  },
  {
   "cell_type": "markdown",
   "id": "a8764ee0-cdf4-4b1b-bb18-7e6d57327555",
   "metadata": {},
   "source": [
    "## Z Scaling Dataset"
   ]
  },
  {
   "cell_type": "code",
   "execution_count": 121,
   "id": "52194dd6",
   "metadata": {},
   "outputs": [],
   "source": [
    "scalar = StandardScaler()\n",
    "\n",
    "scaled = scalar.fit_transform(data[:,:10])\n",
    "\n",
    "dataScaled = np.concatenate((scaled, data[:,10:54]), axis=1)\n",
    "\n",
    "#tree_data['Cover_Type'].to_numpy().reshape(-1, 1)\n",
    "x_zScaled_train, x_zScaled_test, y_zScaled_train, y_zScaled_test = train_test_split(dataScaled, tree_data['Cover_Type'].to_numpy().reshape(-1, 1), test_size=0.2)"
   ]
  },
  {
   "cell_type": "markdown",
   "id": "961dac11-f9b0-477d-bc9c-0275fb382c56",
   "metadata": {},
   "source": [
    "## Min Max Scaled Dataset"
   ]
  },
  {
   "cell_type": "code",
   "execution_count": 122,
   "id": "f99e98c4-84b4-478e-a000-1371ff81fc4b",
   "metadata": {},
   "outputs": [],
   "source": [
    "\n",
    "scaler = MinMaxScaler()\n",
    "dataScaled = scalar.fit_transform(data[:,:54])\n",
    "\n",
    "x_minMaxScaled_train, x_minMaxScaled_test, y_minMaxScaled_train, y_minMaxScaled_test = train_test_split(dataScaled, tree_data['Cover_Type'], test_size=0.2)\n"
   ]
  },
  {
   "cell_type": "markdown",
   "id": "1f6f83e3-73e7-4700-8efb-fc8c3cd6de91",
   "metadata": {},
   "source": [
    "## L1 Scaled Dataset"
   ]
  },
  {
   "cell_type": "markdown",
   "id": "a17b2042-f917-4e7c-a263-30a741d0f4dc",
   "metadata": {},
   "source": [
    "## L2 Scaled Dataset"
   ]
  },
  {
   "cell_type": "markdown",
   "id": "59743d12-7965-42f7-971b-757bf964d5c8",
   "metadata": {},
   "source": [
    "## Mini Batch Gradient Descent"
   ]
  },
  {
   "cell_type": "code",
   "execution_count": 142,
   "id": "d2effbe5-0fad-4d5e-b868-1cd3bcd0f51a",
   "metadata": {},
   "outputs": [
    {
     "name": "stdout",
     "output_type": "stream",
     "text": [
      "Test Error:  1.3464285879935975\n"
     ]
    }
   ],
   "source": [
    "from sklearn import linear_model\n",
    "from sklearn.metrics import r2_score\n",
    "\n",
    "clf = linear_model.SGDRegressor()\n",
    "\n",
    "clf.fit(x_zScaled_train, y_zScaled_train.ravel())\n",
    "y_pred = clf.predict(x_zScaled_test)\n",
    "\n",
    "test_error = (y_zScaled_test - y_pred.reshape(-1, 1))\n",
    "print(\"Test Error: \", np.mean(test_error ** 2))"
   ]
  },
  {
   "cell_type": "markdown",
   "id": "3c231cf6-cccb-4231-8cb6-789032e40345",
   "metadata": {},
   "source": [
    "## Stochastic Gradient Descent"
   ]
  },
  {
   "cell_type": "code",
   "execution_count": null,
   "id": "3fc8f3bf-89a2-4c68-bb73-87458a1275de",
   "metadata": {},
   "outputs": [],
   "source": []
  },
  {
   "cell_type": "code",
   "execution_count": null,
   "id": "68de32b2-04a8-44b2-ae65-48747d0eb57a",
   "metadata": {},
   "outputs": [],
   "source": []
  },
  {
   "cell_type": "markdown",
   "id": "1eae53e0-0b99-4451-84d6-a1c09f860946",
   "metadata": {},
   "source": [
    "## Batch Gradient Descent"
   ]
  },
  {
   "cell_type": "code",
   "execution_count": null,
   "id": "d8b5df4e-e03b-4176-a5ed-16ee348e26ba",
   "metadata": {},
   "outputs": [],
   "source": []
  },
  {
   "cell_type": "code",
   "execution_count": null,
   "id": "2820f4c0-659f-43c2-8486-828b43abcdb9",
   "metadata": {},
   "outputs": [],
   "source": []
  },
  {
   "cell_type": "code",
   "execution_count": null,
   "id": "c42770e1-a059-4821-a446-0e4710c8cfe8",
   "metadata": {},
   "outputs": [],
   "source": []
  },
  {
   "cell_type": "code",
   "execution_count": null,
   "id": "5630af30-c318-40e2-95e0-40651ea75973",
   "metadata": {},
   "outputs": [],
   "source": []
  },
  {
   "cell_type": "code",
   "execution_count": null,
   "id": "da2cd55e-2e87-49d8-b5ce-7fbf81535e4e",
   "metadata": {},
   "outputs": [],
   "source": []
  },
  {
   "cell_type": "code",
   "execution_count": null,
   "id": "77020983-d0fe-4ee8-b24b-ea1aebba7f27",
   "metadata": {},
   "outputs": [],
   "source": []
  }
 ],
 "metadata": {
  "kernelspec": {
   "display_name": "Python 3 (ipykernel)",
   "language": "python",
   "name": "python3"
  },
  "language_info": {
   "codemirror_mode": {
    "name": "ipython",
    "version": 3
   },
   "file_extension": ".py",
   "mimetype": "text/x-python",
   "name": "python",
   "nbconvert_exporter": "python",
   "pygments_lexer": "ipython3",
   "version": "3.12.3"
  }
 },
 "nbformat": 4,
 "nbformat_minor": 5
}
